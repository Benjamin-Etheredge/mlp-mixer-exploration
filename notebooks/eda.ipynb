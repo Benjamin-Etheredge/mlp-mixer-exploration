{
 "metadata": {
  "language_info": {
   "codemirror_mode": {
    "name": "ipython",
    "version": 3
   },
   "file_extension": ".py",
   "mimetype": "text/x-python",
   "name": "python",
   "nbconvert_exporter": "python",
   "pygments_lexer": "ipython3",
   "version": "3.8.8"
  },
  "orig_nbformat": 2,
  "kernelspec": {
   "name": "python388jvsc74a57bd050d4553b5f4b042cca2c9d61962d06c46d21cd44990325036d460450f46857a3",
   "display_name": "Python 3.8.8 64-bit ('mlp-mixer': conda)"
  },
  "metadata": {
   "interpreter": {
    "hash": "50d4553b5f4b042cca2c9d61962d06c46d21cd44990325036d460450f46857a3"
   }
  }
 },
 "nbformat": 4,
 "nbformat_minor": 2,
 "cells": [
  {
   "cell_type": "code",
   "execution_count": null,
   "metadata": {},
   "outputs": [],
   "source": [
    "import tensorflow_datasets as tfds"
   ]
  },
  {
   "cell_type": "code",
   "execution_count": null,
   "metadata": {
    "tags": []
   },
   "outputs": [],
   "source": [
    "import tensorflow as tf\n",
    "data_ds = tf.data.Dataset.list_files(\"../data/imagenet/ILSVRC-2012/val/*\")  # already gets it i the correct order for zip\n",
    "print(type(data_ds))\n",
    "print(len(data_ds))\n",
    "\n"
   ]
  },
  {
   "cell_type": "code",
   "execution_count": null,
   "metadata": {},
   "outputs": [],
   "source": [
    "with open(\"../data/imagenet/ILSVRC-2012/ILSVRC2012_devkit_t12/data/ILSVRC2012_validation_ground_truth.txt\") as f:\n",
    "    labels = list(f) \n",
    "print(len(labels))\n",
    "label_ds = tf.data.Dataset.from_tensor_slices(labels)\n",
    "print(len(label_ds))\n",
    "print(type(label_ds))"
   ]
  },
  {
   "cell_type": "code",
   "execution_count": null,
   "metadata": {},
   "outputs": [],
   "source": [
    "ds = tf.data.Dataset.zip((data_ds, label_ds))"
   ]
  },
  {
   "cell_type": "code",
   "execution_count": null,
   "metadata": {},
   "outputs": [],
   "source": [
    "# TODO test order to be sure things match up right"
   ]
  },
  {
   "cell_type": "code",
   "execution_count": null,
   "metadata": {
    "tags": []
   },
   "outputs": [],
   "source": [
    "def convert_image(file_name, *args):\n",
    "    return file_name, *args"
   ]
  },
  {
   "cell_type": "code",
   "execution_count": null,
   "metadata": {},
   "outputs": [],
   "source": []
  }
 ]
}