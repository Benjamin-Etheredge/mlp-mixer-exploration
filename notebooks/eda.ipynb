{
 "metadata": {
  "language_info": {
   "codemirror_mode": {
    "name": "ipython",
    "version": 3
   },
   "file_extension": ".py",
   "mimetype": "text/x-python",
   "name": "python",
   "nbconvert_exporter": "python",
   "pygments_lexer": "ipython3",
   "version": "3.8.8"
  },
  "orig_nbformat": 2,
  "kernelspec": {
   "name": "python388jvsc74a57bd09cb6f04690c09dd6cdaaeb571a2f6dca20db533b5d673dfb5b13cefcf20d5253",
   "display_name": "Python 3.8.8 64-bit ('deep-q': conda)"
  },
  "metadata": {
   "interpreter": {
    "hash": "50d4553b5f4b042cca2c9d61962d06c46d21cd44990325036d460450f46857a3"
   }
  }
 },
 "nbformat": 4,
 "nbformat_minor": 2,
 "cells": [
  {
   "cell_type": "code",
   "execution_count": null,
   "metadata": {},
   "outputs": [],
   "source": [
    "import tensorflow_datasets as tfds"
   ]
  },
  {
   "cell_type": "code",
   "execution_count": null,
   "metadata": {
    "tags": []
   },
   "outputs": [],
   "source": [
    "import tensorflow as tf\n",
    "data_ds = tf.data.Dataset.list_files(\"../data/ILSVRC-2012/val/*\")  # already gets it i the correct order for zip\n",
    "print(type(data_ds))\n",
    "print(len(data_ds))\n",
    "\n"
   ]
  },
  {
   "cell_type": "code",
   "execution_count": null,
   "metadata": {},
   "outputs": [],
   "source": [
    "with open(\"../data/ILSVRC-2012/ILSVRC2012_devkit_t12/data/ILSVRC2012_validation_ground_truth.txt\") as f:\n",
    "    labels = list(f) \n",
    "print(len(labels))\n",
    "label_ds = tf.data.Dataset.from_tensor_slices(labels)\n",
    "print(len(label_ds))\n",
    "print(type(label_ds))"
   ]
  },
  {
   "cell_type": "code",
   "execution_count": null,
   "metadata": {},
   "outputs": [],
   "source": [
    "ds = tf.data.Dataset.zip((data_ds, label_ds))"
   ]
  },
  {
   "cell_type": "code",
   "execution_count": null,
   "metadata": {},
   "outputs": [],
   "source": [
    "# TODO test order to be sure things match up right"
   ]
  },
  {
   "cell_type": "code",
   "execution_count": null,
   "metadata": {
    "tags": []
   },
   "outputs": [],
   "source": [
    "def convert_image(file_name, *args):\n",
    "    img = read\n",
    "    return file_name, *args"
   ]
  },
  {
   "cell_type": "code",
   "execution_count": null,
   "metadata": {},
   "outputs": [],
   "source": [
    "print(\"pls\")"
   ]
  },
  {
   "cell_type": "code",
   "execution_count": null,
   "metadata": {},
   "outputs": [],
   "source": [
    "import tensorflow as tf\n",
    "img_gen = tf.keras.preprocessing.image.ImageDataGenerator(rescale=1./255, rotation_range=20, horizontal_flip=True)\n",
    "ds = img_gen.flow_from_directory('../data/ILSVRC-2012', )\n",
    "\n"
   ]
  },
  {
   "cell_type": "code",
   "execution_count": null,
   "metadata": {},
   "outputs": [],
   "source": [
    "img, label = next(ds)\n",
    "label"
   ]
  },
  {
   "cell_type": "code",
   "execution_count": null,
   "metadata": {},
   "outputs": [],
   "source": [
    "tf.__version__"
   ]
  },
  {
   "cell_type": "code",
   "execution_count": null,
   "metadata": {},
   "outputs": [],
   "source": [
    "import scipy.io\n",
    "meta = scipy.io.loadmat('../data/external/ILSVRC-2012/ILSVRC2012_devkit_t12/data/meta.mat', squeeze_me=True)['synsets']"
   ]
  },
  {
   "cell_type": "code",
   "execution_count": null,
   "metadata": {},
   "outputs": [],
   "source": [
    "meta"
   ]
  },
  {
   "cell_type": "code",
   "execution_count": null,
   "metadata": {},
   "outputs": [],
   "source": [
    "meta[0][2]"
   ]
  },
  {
   "cell_type": "code",
   "execution_count": null,
   "metadata": {},
   "outputs": [],
   "source": [
    "meta[1][0]"
   ]
  },
  {
   "cell_type": "code",
   "execution_count": null,
   "metadata": {},
   "outputs": [],
   "source": [
    "data = meta[0,  0][1]\n",
    "data"
   ]
  },
  {
   "cell_type": "code",
   "execution_count": null,
   "metadata": {},
   "outputs": [],
   "source": [
    "\n",
    "len(meta)"
   ]
  },
  {
   "cell_type": "code",
   "execution_count": null,
   "metadata": {},
   "outputs": [],
   "source": [
    "tags = [meta[idx][0] for idx in range(len(meta))]\n",
    "#tags"
   ]
  },
  {
   "cell_type": "code",
   "execution_count": null,
   "metadata": {},
   "outputs": [],
   "source": [
    "meta.__dict__"
   ]
  },
  {
   "cell_type": "code",
   "execution_count": null,
   "metadata": {},
   "outputs": [],
   "source": [
    "len(meta)"
   ]
  },
  {
   "cell_type": "code",
   "execution_count": null,
   "metadata": {},
   "outputs": [],
   "source": [
    "meta"
   ]
  },
  {
   "cell_type": "code",
   "execution_count": null,
   "metadata": {},
   "outputs": [],
   "source": [
    "import tensorflow as tf\n",
    "files = tf.data.Dataset.list_files('../data/external/ILSVRC-2012/train/*')"
   ]
  },
  {
   "cell_type": "code",
   "execution_count": null,
   "metadata": {},
   "outputs": [],
   "source": [
    "print(type(files))\n",
    "print(len(files))"
   ]
  },
  {
   "cell_type": "code",
   "execution_count": null,
   "metadata": {},
   "outputs": [],
   "source": [
    "\n",
    "item = next(iter(files))\n",
    "print(item)\n",
    "file_name = tf.strings.split(item, sep='/')[-1]\n",
    "print(file_name)\n",
    "wnid, *_ = tf.strings.split(file_name, sep='_')\n",
    "print(wnid)"
   ]
  },
  {
   "cell_type": "code",
   "execution_count": null,
   "metadata": {},
   "outputs": [],
   "source": [
    "import tensorflow as tf\n",
    "import pandas as pd\n",
    "\n",
    "import pandas as pd\n",
    "meta = pd.read_csv('../data/interim/meta.csv')\n",
    "#wnid_to_id = tf.lookup.StaticHashTable({wnid: id for id, wnid in zip(meta.id.values, meta.wnid.values)}, default_value=-1)\n",
    "ids = [id-1 for id in meta.id.values]\n",
    "wnid_to_id = tf.lookup.StaticHashTable(\n",
    "    initializer=tf.lookup.KeyValueTensorInitializer(\n",
    "        values=ids, keys=meta.wnid.values), \n",
    "    default_value=-1)\n",
    "\n",
    "def get_id(wnid):\n",
    "    #id = tf.py_function(lambda x: wnid_to_id[x], [wnid], tf.int32)\n",
    "    #return id\n",
    "    return wnid_to_id.lookup(wnid)\n",
    "\n",
    "def get_wnid(path):\n",
    "    file_name = tf.strings.split(path, sep='/')[-1]\n",
    "    split_name = tf.strings.split(file_name, sep='_')\n",
    "    wnid = split_name[0]\n",
    "    return wnid\n",
    "\n",
    "# TODO test setting shape\n",
    "def img_decode(img_bytes):\n",
    "    img = tf.image.decode_jpeg(img_bytes, channels=3)\n",
    "    img = tf.image.convert_image_dtype(img, 'float32')\n",
    "    img = tf.image.resize(img, (224, 224))\n",
    "    # TODO check if shape is greater than a certain amount, if so random crop,\n",
    "    # TODO else just resize\n",
    "    # TODO make sure mutations don't go above/below 0/1\n",
    "    return img\n",
    "\n",
    "\n",
    "def loader(path):\n",
    "    files_ds = tf.data.Dataset.list_files(path)\n",
    "    data_ds = files_ds.map(tf.io.read_file, tf.data.AUTOTUNE).filter(tf.io.is_jpeg)\n",
    "    img_ds = data_ds.map(img_decode, tf.data.AUTOTUNE)\n",
    "\n",
    "    wnid_ds = files_ds.map(get_wnid, tf.data.AUTOTUNE)\n",
    "    ids_ds = wnid_ds.map(get_id, tf.data.AUTOTUNE)\n",
    "    print(len(wnid_ds))\n",
    "    ds = tf.data.Dataset.zip((img_ds, ids_ds))\n",
    "\n",
    "    return ds\n",
    "ds = loader('../data/external/ILSVRC-2012/train/*')\n",
    "print(type(ds))"
   ]
  },
  {
   "cell_type": "code",
   "execution_count": null,
   "metadata": {},
   "outputs": [],
   "source": [
    "next(iter(ds))"
   ]
  },
  {
   "cell_type": "code",
   "execution_count": null,
   "metadata": {
    "tags": [
     "outputPrepend"
    ]
   },
   "outputs": [],
   "source": [
    "#model = tf.keras.applications.ResNet50()\n",
    "model= tf.keras.applications.EfficientNetB0()\n",
    "\n",
    "model.compile(\n",
    "    metrics=['acc'],\n",
    "    loss=tf.keras.losses.SparseCategoricalCrossentropy())\n",
    "model.summary()"
   ]
  },
  {
   "cell_type": "code",
   "execution_count": null,
   "metadata": {},
   "outputs": [],
   "source": [
    "model.fit(ds.batch(4).prefetch(-1), epochs=10)"
   ]
  },
  {
   "cell_type": "code",
   "execution_count": null,
   "metadata": {},
   "outputs": [],
   "source": []
  }
 ]
}